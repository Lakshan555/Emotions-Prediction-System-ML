{
 "cells": [
  {
   "cell_type": "code",
   "execution_count": 7,
   "metadata": {},
   "outputs": [],
   "source": [
    "#import packages\n",
    "import pandas as pd\n",
    "from sklearn.feature_extraction.text import TfidfVectorizer\n",
    "import joblib"
   ]
  },
  {
   "cell_type": "code",
   "execution_count": 8,
   "metadata": {},
   "outputs": [],
   "source": [
    "# Load the dataset from csv\n",
    "data = pd.read_csv('dataset.csv')"
   ]
  },
  {
   "cell_type": "code",
   "execution_count": 9,
   "metadata": {},
   "outputs": [],
   "source": [
    "# Preprocess the data with using the TF-IDF Vectorizer from Scikit-learn\n",
    "vectorizerSVM = TfidfVectorizer()\n",
    "SVM_X = vectorizerSVM.fit_transform(data['Text'])\n",
    "SVM_Y = data['Emotion']"
   ]
  },
  {
   "cell_type": "code",
   "execution_count": 10,
   "metadata": {},
   "outputs": [],
   "source": [
    "# Load data trained model \n",
    "svm_loaded = joblib.load('trained_modelSVM.joblib')"
   ]
  },
  {
   "cell_type": "code",
   "execution_count": 11,
   "metadata": {},
   "outputs": [
    {
     "name": "stdout",
     "output_type": "stream",
     "text": [
      "['sadness']\n"
     ]
    }
   ],
   "source": [
    "# Use model to predict the emotion with new input text\n",
    "new_input = \"If you don't start taking this seriously, I'm going to lose my temper.\"\n",
    "new_input_transformed = vectorizerSVM.transform([new_input])\n",
    "new_output = svm_loaded.predict(new_input_transformed)\n",
    "print(new_output)"
   ]
  }
 ],
 "metadata": {
  "kernelspec": {
   "display_name": "forML",
   "language": "python",
   "name": "python3"
  },
  "language_info": {
   "codemirror_mode": {
    "name": "ipython",
    "version": 3
   },
   "file_extension": ".py",
   "mimetype": "text/x-python",
   "name": "python",
   "nbconvert_exporter": "python",
   "pygments_lexer": "ipython3",
   "version": "3.10.11"
  },
  "orig_nbformat": 4
 },
 "nbformat": 4,
 "nbformat_minor": 2
}
