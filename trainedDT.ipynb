{
 "cells": [
  {
   "cell_type": "code",
   "execution_count": 6,
   "metadata": {},
   "outputs": [],
   "source": [
    "import pandas as pd\n",
    "from sklearn.feature_extraction.text import TfidfVectorizer\n",
    "import joblib"
   ]
  },
  {
   "cell_type": "code",
   "execution_count": 7,
   "metadata": {},
   "outputs": [],
   "source": [
    "# Load the data from csv \n",
    "data = pd.read_csv('dataset.csv')"
   ]
  },
  {
   "cell_type": "code",
   "execution_count": 10,
   "metadata": {},
   "outputs": [],
   "source": [
    "# Preprocess the data with using the TF-IDF Vectorizer from Scikit-learn\n",
    "vectorizerDT = TfidfVectorizer()\n",
    "\n",
    "# transformed numerical features DT_X ,corresponding target labels DT_y\n",
    "DT_X = vectorizerDT.fit_transform(data['Text']) \n",
    "DT_y = data['Emotion'] "
   ]
  },
  {
   "cell_type": "code",
   "execution_count": 11,
   "metadata": {},
   "outputs": [],
   "source": [
    "# Load the trained model from the csv file\n",
    "dt_loaded = joblib.load('trained_modelDT.joblib')\n",
    "\n"
   ]
  },
  {
   "cell_type": "code",
   "execution_count": 34,
   "metadata": {},
   "outputs": [
    {
     "name": "stdout",
     "output_type": "stream",
     "text": [
      "['anger']\n"
     ]
    }
   ],
   "source": [
    "# Use the loaded model to predict the emotion of a new input text\n",
    "new_dt_input = \"If you don't start taking this seriously, I'm going to lose my temper.\"\n",
    "new_dt_input_transformed = vectorizerDT.transform([new_dt_input])\n",
    "new_output = dt_loaded.predict(new_dt_input_transformed)\n",
    "print(new_output)"
   ]
  }
 ],
 "metadata": {
  "kernelspec": {
   "display_name": "forML",
   "language": "python",
   "name": "python3"
  },
  "language_info": {
   "codemirror_mode": {
    "name": "ipython",
    "version": 3
   },
   "file_extension": ".py",
   "mimetype": "text/x-python",
   "name": "python",
   "nbconvert_exporter": "python",
   "pygments_lexer": "ipython3",
   "version": "3.10.11"
  },
  "orig_nbformat": 4
 },
 "nbformat": 4,
 "nbformat_minor": 2
}
